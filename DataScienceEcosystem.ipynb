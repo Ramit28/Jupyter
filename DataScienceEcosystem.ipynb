{
 "cells": [
  {
   "cell_type": "markdown",
   "id": "e43ea33b-6d22-48c7-89e0-80d328bbb6b5",
   "metadata": {},
   "source": [
    "#Data Science Tools and Ecosystem"
   ]
  },
  {
   "cell_type": "markdown",
   "id": "57ebfc4b-940c-4de0-a148-5ec762c26397",
   "metadata": {},
   "source": [
    "In this notebook, Data Science Tools and Ecosystem are summarized."
   ]
  },
  {
   "cell_type": "markdown",
   "id": "20a37b1d-1923-4aae-961c-689c7eb62ec8",
   "metadata": {},
   "source": [
    "Some of the popular languages that Data Scientists use are:\n",
    "    1.Python\n",
    "    2 R\n",
    "    3 SQL"
   ]
  },
  {
   "cell_type": "markdown",
   "id": "b8b43121-3422-4dd1-a7e6-dfe8ef0f4981",
   "metadata": {},
   "source": [
    "Some of the commonly used libraries used by Data Scientists include:\n",
    "1.Numpy\n",
    "2.Scipy\n",
    "3.Pandas\n",
    "\n"
   ]
  },
  {
   "cell_type": "markdown",
   "id": "cade7698-bf00-45b0-ae91-fea71cbe6486",
   "metadata": {
    "tags": []
   },
   "source": [
    "| Data Science Tools |\n",
    "|--------------------|\n",
    "| Jupyter Notebooks   |\n",
    "| RStudio             |\n",
    "| Apache Zeppelin     |\n"
   ]
  },
  {
   "cell_type": "markdown",
   "id": "9e07c80b-130d-4257-835c-f8f8b672992f",
   "metadata": {},
   "source": [
    "###Below are a few examples of evaluating arithmetic expressions in Python\n"
   ]
  },
  {
   "cell_type": "code",
   "execution_count": 2,
   "id": "ca9259c0-b223-49cd-8167-e6c2eddbe441",
   "metadata": {
    "tags": []
   },
   "outputs": [
    {
     "data": {
      "text/plain": [
       "17"
      ]
     },
     "execution_count": 2,
     "metadata": {},
     "output_type": "execute_result"
    }
   ],
   "source": [
    "#This a simple arithmetic expression to mutiply then add integers\n",
    "(3*4)+5"
   ]
  },
  {
   "cell_type": "code",
   "execution_count": 3,
   "id": "677835fe-30c6-49fc-bae7-fcae65ccde8e",
   "metadata": {
    "tags": []
   },
   "outputs": [
    {
     "data": {
      "text/plain": [
       "3.3333333333333335"
      ]
     },
     "execution_count": 3,
     "metadata": {},
     "output_type": "execute_result"
    }
   ],
   "source": [
    "# This will convert 200 minutes to hours by dividing by 60\n",
    "minutes = 200\n",
    "hours = minutes / 60\n",
    "hours\n"
   ]
  },
  {
   "cell_type": "markdown",
   "id": "b47079dc-fe87-4d39-ae2b-1a40e1721a0e",
   "metadata": {},
   "source": [
    "**Objectives:**\n",
    "- List popular languages for Data Science\n",
    "- Explore various libraries and tools used in Data Science\n",
    "- Understand the basic workflow of a Data Science project\n",
    "- Learn about data visualization techniques\n",
    "- Review machine learning algorithms\n"
   ]
  },
  {
   "cell_type": "markdown",
   "id": "e3495b9e-ed94-4aa7-9c86-79d5b486cffb",
   "metadata": {},
   "source": [
    "## Author\n",
    "Ramit Khetarpal"
   ]
  },
  {
   "cell_type": "code",
   "execution_count": null,
   "id": "8c0df093-001c-4743-88c8-7fdd5408748f",
   "metadata": {},
   "outputs": [],
   "source": []
  }
 ],
 "metadata": {
  "kernelspec": {
   "display_name": "Python",
   "language": "python",
   "name": "conda-env-python-py"
  },
  "language_info": {
   "codemirror_mode": {
    "name": "ipython",
    "version": 3
   },
   "file_extension": ".py",
   "mimetype": "text/x-python",
   "name": "python",
   "nbconvert_exporter": "python",
   "pygments_lexer": "ipython3",
   "version": "3.7.12"
  }
 },
 "nbformat": 4,
 "nbformat_minor": 5
}
